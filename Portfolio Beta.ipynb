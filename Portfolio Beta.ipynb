{
 "cells": [
  {
   "cell_type": "markdown",
   "id": "202be38b",
   "metadata": {},
   "source": [
    "## Calculating weighted Beta of Portfolio using a benchmark\n"
   ]
  },
  {
   "cell_type": "code",
   "execution_count": 1,
   "id": "9ffe85bd",
   "metadata": {},
   "outputs": [],
   "source": [
    "import datetime as dt\n",
    "import pandas as pd\n",
    "import numpy as np\n",
    "from scipy import stats\n",
    "from pandas_datareader import data as pdr"
   ]
  },
  {
   "cell_type": "markdown",
   "id": "6e3622b8",
   "metadata": {},
   "source": [
    "### Set date range "
   ]
  },
  {
   "cell_type": "code",
   "execution_count": 2,
   "id": "a469da28",
   "metadata": {},
   "outputs": [
    {
     "data": {
      "text/plain": [
       "(datetime.datetime(2022, 1, 1, 0, 0),\n",
       " datetime.datetime(2022, 8, 15, 17, 52, 11, 283775))"
      ]
     },
     "execution_count": 2,
     "metadata": {},
     "output_type": "execute_result"
    }
   ],
   "source": [
    "start = dt.datetime(2022,1,1) #YTD\n",
    "end = dt.datetime.now()\n",
    "start, end"
   ]
  },
  {
   "cell_type": "markdown",
   "id": "4f907b1e",
   "metadata": {},
   "source": [
    "###  Make list of your stocks and benchmark"
   ]
  },
  {
   "cell_type": "code",
   "execution_count": 3,
   "id": "999fa291",
   "metadata": {},
   "outputs": [],
   "source": [
    "stocks = ['AAPL', 'AMZN', 'GOOG', 'NFLX', 'TSLA', 'MSFT', 'NVDA', 'JPM', 'COIN']\n",
    "tickers = ['^IXIC', 'AAPL', 'AMZN', 'GOOG', 'NFLX', 'TSLA', 'MSFT', 'NVDA', 'JPM', 'COIN']"
   ]
  },
  {
   "cell_type": "markdown",
   "id": "6231b532",
   "metadata": {},
   "source": [
    "### Calculate daily price changes"
   ]
  },
  {
   "cell_type": "code",
   "execution_count": 4,
   "id": "d791aacb",
   "metadata": {
    "scrolled": true
   },
   "outputs": [
    {
     "data": {
      "text/html": [
       "<div>\n",
       "<style scoped>\n",
       "    .dataframe tbody tr th:only-of-type {\n",
       "        vertical-align: middle;\n",
       "    }\n",
       "\n",
       "    .dataframe tbody tr th {\n",
       "        vertical-align: top;\n",
       "    }\n",
       "\n",
       "    .dataframe thead th {\n",
       "        text-align: right;\n",
       "    }\n",
       "</style>\n",
       "<table border=\"1\" class=\"dataframe\">\n",
       "  <thead>\n",
       "    <tr style=\"text-align: right;\">\n",
       "      <th>Symbols</th>\n",
       "      <th>^IXIC</th>\n",
       "      <th>AAPL</th>\n",
       "      <th>AMZN</th>\n",
       "      <th>GOOG</th>\n",
       "      <th>NFLX</th>\n",
       "      <th>TSLA</th>\n",
       "      <th>MSFT</th>\n",
       "      <th>NVDA</th>\n",
       "      <th>JPM</th>\n",
       "      <th>COIN</th>\n",
       "    </tr>\n",
       "    <tr>\n",
       "      <th>Date</th>\n",
       "      <th></th>\n",
       "      <th></th>\n",
       "      <th></th>\n",
       "      <th></th>\n",
       "      <th></th>\n",
       "      <th></th>\n",
       "      <th></th>\n",
       "      <th></th>\n",
       "      <th></th>\n",
       "      <th></th>\n",
       "    </tr>\n",
       "  </thead>\n",
       "  <tbody>\n",
       "    <tr>\n",
       "      <th>2022-01-04</th>\n",
       "      <td>-0.013357</td>\n",
       "      <td>-0.012773</td>\n",
       "      <td>-0.017060</td>\n",
       "      <td>-0.004546</td>\n",
       "      <td>-0.010467</td>\n",
       "      <td>-0.042733</td>\n",
       "      <td>-0.017296</td>\n",
       "      <td>-0.027976</td>\n",
       "      <td>0.037209</td>\n",
       "      <td>-0.003591</td>\n",
       "    </tr>\n",
       "    <tr>\n",
       "      <th>2022-01-05</th>\n",
       "      <td>-0.034020</td>\n",
       "      <td>-0.026960</td>\n",
       "      <td>-0.019074</td>\n",
       "      <td>-0.047962</td>\n",
       "      <td>-0.040794</td>\n",
       "      <td>-0.054954</td>\n",
       "      <td>-0.039144</td>\n",
       "      <td>-0.059285</td>\n",
       "      <td>-0.024428</td>\n",
       "      <td>-0.065757</td>\n",
       "    </tr>\n",
       "    <tr>\n",
       "      <th>2022-01-06</th>\n",
       "      <td>-0.001280</td>\n",
       "      <td>-0.016834</td>\n",
       "      <td>-0.006734</td>\n",
       "      <td>-0.000745</td>\n",
       "      <td>-0.025394</td>\n",
       "      <td>-0.021758</td>\n",
       "      <td>-0.007933</td>\n",
       "      <td>0.020581</td>\n",
       "      <td>0.010568</td>\n",
       "      <td>-0.000982</td>\n",
       "    </tr>\n",
       "    <tr>\n",
       "      <th>2022-01-07</th>\n",
       "      <td>-0.009659</td>\n",
       "      <td>0.000988</td>\n",
       "      <td>-0.004297</td>\n",
       "      <td>-0.003981</td>\n",
       "      <td>-0.022352</td>\n",
       "      <td>-0.036090</td>\n",
       "      <td>0.000510</td>\n",
       "      <td>-0.033598</td>\n",
       "      <td>0.009859</td>\n",
       "      <td>-0.007162</td>\n",
       "    </tr>\n",
       "    <tr>\n",
       "      <th>2022-01-10</th>\n",
       "      <td>0.000464</td>\n",
       "      <td>0.000116</td>\n",
       "      <td>-0.006592</td>\n",
       "      <td>0.011391</td>\n",
       "      <td>-0.002239</td>\n",
       "      <td>0.029891</td>\n",
       "      <td>0.000732</td>\n",
       "      <td>0.005600</td>\n",
       "      <td>0.000957</td>\n",
       "      <td>-0.032014</td>\n",
       "    </tr>\n",
       "  </tbody>\n",
       "</table>\n",
       "</div>"
      ],
      "text/plain": [
       "Symbols        ^IXIC      AAPL      AMZN      GOOG      NFLX      TSLA  \\\n",
       "Date                                                                     \n",
       "2022-01-04 -0.013357 -0.012773 -0.017060 -0.004546 -0.010467 -0.042733   \n",
       "2022-01-05 -0.034020 -0.026960 -0.019074 -0.047962 -0.040794 -0.054954   \n",
       "2022-01-06 -0.001280 -0.016834 -0.006734 -0.000745 -0.025394 -0.021758   \n",
       "2022-01-07 -0.009659  0.000988 -0.004297 -0.003981 -0.022352 -0.036090   \n",
       "2022-01-10  0.000464  0.000116 -0.006592  0.011391 -0.002239  0.029891   \n",
       "\n",
       "Symbols         MSFT      NVDA       JPM      COIN  \n",
       "Date                                                \n",
       "2022-01-04 -0.017296 -0.027976  0.037209 -0.003591  \n",
       "2022-01-05 -0.039144 -0.059285 -0.024428 -0.065757  \n",
       "2022-01-06 -0.007933  0.020581  0.010568 -0.000982  \n",
       "2022-01-07  0.000510 -0.033598  0.009859 -0.007162  \n",
       "2022-01-10  0.000732  0.005600  0.000957 -0.032014  "
      ]
     },
     "execution_count": 4,
     "metadata": {},
     "output_type": "execute_result"
    }
   ],
   "source": [
    "df = pdr.get_data_yahoo(tickers, start, end)\n",
    "log_returns = np.log(df.Close / df.Close.shift(1)).dropna()\n",
    "log_returns.head()"
   ]
  },
  {
   "cell_type": "markdown",
   "id": "c26b9524",
   "metadata": {},
   "source": [
    "### Calculate beta for each stock\n",
    "\n",
    "Covariance(Benchmark, Stock) / Variance(Benchmark)"
   ]
  },
  {
   "cell_type": "code",
   "execution_count": 5,
   "id": "896f3702",
   "metadata": {},
   "outputs": [],
   "source": [
    "def calculate_beta(df):\n",
    "    np_array = df.values\n",
    "    b = np_array[:,0]\n",
    "    beta = []\n",
    "    for ind, col in enumerate(df):\n",
    "        if ind > 0:\n",
    "            s = np_array[:,ind]\n",
    "            covariance = np.cov(s,b)\n",
    "            beta.append(covariance[0,1]/covariance[1,1])\n",
    "            \n",
    "    return pd.Series(beta, df.columns[1:], name = 'Beta')"
   ]
  },
  {
   "cell_type": "code",
   "execution_count": 6,
   "id": "22acb9c8",
   "metadata": {
    "scrolled": true
   },
   "outputs": [
    {
     "data": {
      "text/plain": [
       "Symbols\n",
       "AAPL    0.934180\n",
       "AMZN    1.336169\n",
       "GOOG    1.011038\n",
       "NFLX    1.480720\n",
       "TSLA    1.653009\n",
       "MSFT    0.934369\n",
       "NVDA    1.787397\n",
       "JPM     0.547392\n",
       "COIN    2.650938\n",
       "Name: Beta, dtype: float64"
      ]
     },
     "execution_count": 6,
     "metadata": {},
     "output_type": "execute_result"
    }
   ],
   "source": [
    "calculate_beta(log_returns)"
   ]
  },
  {
   "cell_type": "code",
   "execution_count": 7,
   "id": "e29e64d4",
   "metadata": {},
   "outputs": [],
   "source": [
    "beta = calculate_beta(log_returns)"
   ]
  },
  {
   "cell_type": "markdown",
   "id": "45cb427d",
   "metadata": {},
   "source": [
    "### Calculate Weighted Beta of Portfolio"
   ]
  },
  {
   "cell_type": "code",
   "execution_count": 8,
   "id": "569b0fe9",
   "metadata": {},
   "outputs": [],
   "source": [
    "units = np.array([10, 10, 10, 10, 3, 10, 10, 15, 20])\n",
    "ASXprices = df.Close[-1:].values.tolist()[0]\n",
    "price = np.array([round(price,2) for price in ASXprices[1:]])\n",
    "value = units*price\n",
    "weight = [round(val/sum(value),2) for val in value]\n",
    "beta = round(beta, 2)"
   ]
  },
  {
   "cell_type": "code",
   "execution_count": 9,
   "id": "4597e4b4",
   "metadata": {},
   "outputs": [
    {
     "data": {
      "text/html": [
       "<div>\n",
       "<style scoped>\n",
       "    .dataframe tbody tr th:only-of-type {\n",
       "        vertical-align: middle;\n",
       "    }\n",
       "\n",
       "    .dataframe tbody tr th {\n",
       "        vertical-align: top;\n",
       "    }\n",
       "\n",
       "    .dataframe thead th {\n",
       "        text-align: right;\n",
       "    }\n",
       "</style>\n",
       "<table border=\"1\" class=\"dataframe\">\n",
       "  <thead>\n",
       "    <tr style=\"text-align: right;\">\n",
       "      <th></th>\n",
       "      <th>Stock</th>\n",
       "      <th>Price</th>\n",
       "      <th>Shares amount</th>\n",
       "      <th>Market Value</th>\n",
       "      <th>Weight</th>\n",
       "      <th>Beta</th>\n",
       "      <th>Weighted Beta</th>\n",
       "    </tr>\n",
       "    <tr>\n",
       "      <th>Symbols</th>\n",
       "      <th></th>\n",
       "      <th></th>\n",
       "      <th></th>\n",
       "      <th></th>\n",
       "      <th></th>\n",
       "      <th></th>\n",
       "      <th></th>\n",
       "    </tr>\n",
       "  </thead>\n",
       "  <tbody>\n",
       "    <tr>\n",
       "      <th>AAPL</th>\n",
       "      <td>AAPL</td>\n",
       "      <td>171.98</td>\n",
       "      <td>10</td>\n",
       "      <td>1719.80</td>\n",
       "      <td>0.10</td>\n",
       "      <td>0.93</td>\n",
       "      <td>0.0930</td>\n",
       "    </tr>\n",
       "    <tr>\n",
       "      <th>AMZN</th>\n",
       "      <td>AMZN</td>\n",
       "      <td>141.78</td>\n",
       "      <td>10</td>\n",
       "      <td>1417.80</td>\n",
       "      <td>0.08</td>\n",
       "      <td>1.34</td>\n",
       "      <td>0.1072</td>\n",
       "    </tr>\n",
       "    <tr>\n",
       "      <th>GOOG</th>\n",
       "      <td>GOOG</td>\n",
       "      <td>121.74</td>\n",
       "      <td>10</td>\n",
       "      <td>1217.40</td>\n",
       "      <td>0.07</td>\n",
       "      <td>1.01</td>\n",
       "      <td>0.0707</td>\n",
       "    </tr>\n",
       "    <tr>\n",
       "      <th>NFLX</th>\n",
       "      <td>NFLX</td>\n",
       "      <td>249.64</td>\n",
       "      <td>10</td>\n",
       "      <td>2496.40</td>\n",
       "      <td>0.14</td>\n",
       "      <td>1.48</td>\n",
       "      <td>0.2072</td>\n",
       "    </tr>\n",
       "    <tr>\n",
       "      <th>TSLA</th>\n",
       "      <td>TSLA</td>\n",
       "      <td>913.26</td>\n",
       "      <td>3</td>\n",
       "      <td>2739.78</td>\n",
       "      <td>0.15</td>\n",
       "      <td>1.65</td>\n",
       "      <td>0.2475</td>\n",
       "    </tr>\n",
       "    <tr>\n",
       "      <th>MSFT</th>\n",
       "      <td>MSFT</td>\n",
       "      <td>290.48</td>\n",
       "      <td>10</td>\n",
       "      <td>2904.80</td>\n",
       "      <td>0.16</td>\n",
       "      <td>0.93</td>\n",
       "      <td>0.1488</td>\n",
       "    </tr>\n",
       "    <tr>\n",
       "      <th>NVDA</th>\n",
       "      <td>NVDA</td>\n",
       "      <td>186.81</td>\n",
       "      <td>10</td>\n",
       "      <td>1868.10</td>\n",
       "      <td>0.10</td>\n",
       "      <td>1.79</td>\n",
       "      <td>0.1790</td>\n",
       "    </tr>\n",
       "    <tr>\n",
       "      <th>JPM</th>\n",
       "      <td>JPM</td>\n",
       "      <td>121.22</td>\n",
       "      <td>15</td>\n",
       "      <td>1818.30</td>\n",
       "      <td>0.10</td>\n",
       "      <td>0.55</td>\n",
       "      <td>0.0550</td>\n",
       "    </tr>\n",
       "    <tr>\n",
       "      <th>COIN</th>\n",
       "      <td>COIN</td>\n",
       "      <td>90.52</td>\n",
       "      <td>20</td>\n",
       "      <td>1810.40</td>\n",
       "      <td>0.10</td>\n",
       "      <td>2.65</td>\n",
       "      <td>0.2650</td>\n",
       "    </tr>\n",
       "  </tbody>\n",
       "</table>\n",
       "</div>"
      ],
      "text/plain": [
       "        Stock   Price  Shares amount  Market Value  Weight  Beta  \\\n",
       "Symbols                                                            \n",
       "AAPL     AAPL  171.98             10       1719.80    0.10  0.93   \n",
       "AMZN     AMZN  141.78             10       1417.80    0.08  1.34   \n",
       "GOOG     GOOG  121.74             10       1217.40    0.07  1.01   \n",
       "NFLX     NFLX  249.64             10       2496.40    0.14  1.48   \n",
       "TSLA     TSLA  913.26              3       2739.78    0.15  1.65   \n",
       "MSFT     MSFT  290.48             10       2904.80    0.16  0.93   \n",
       "NVDA     NVDA  186.81             10       1868.10    0.10  1.79   \n",
       "JPM       JPM  121.22             15       1818.30    0.10  0.55   \n",
       "COIN     COIN   90.52             20       1810.40    0.10  2.65   \n",
       "\n",
       "         Weighted Beta  \n",
       "Symbols                 \n",
       "AAPL            0.0930  \n",
       "AMZN            0.1072  \n",
       "GOOG            0.0707  \n",
       "NFLX            0.2072  \n",
       "TSLA            0.2475  \n",
       "MSFT            0.1488  \n",
       "NVDA            0.1790  \n",
       "JPM             0.0550  \n",
       "COIN            0.2650  "
      ]
     },
     "execution_count": 9,
     "metadata": {},
     "output_type": "execute_result"
    }
   ],
   "source": [
    "portfolio = pd.DataFrame({\n",
    "    'Stock': stocks,\n",
    "    'Price': price,\n",
    "    'Shares amount': units,\n",
    "    'Market Value': value,\n",
    "    'Weight': weight,\n",
    "    'Beta': beta,\n",
    "    'Weighted Beta': weight*beta\n",
    "})\n",
    "portfolio"
   ]
  },
  {
   "cell_type": "markdown",
   "id": "3b940ac9",
   "metadata": {},
   "source": [
    "#### Weighted Beta of Portfolio"
   ]
  },
  {
   "cell_type": "code",
   "execution_count": 10,
   "id": "ed05c6e9",
   "metadata": {},
   "outputs": [
    {
     "data": {
      "text/plain": [
       "1.3734000000000002"
      ]
     },
     "execution_count": 10,
     "metadata": {},
     "output_type": "execute_result"
    }
   ],
   "source": [
    "sum(weight*beta)"
   ]
  }
 ],
 "metadata": {
  "kernelspec": {
   "display_name": "Python 3 (ipykernel)",
   "language": "python",
   "name": "python3"
  },
  "language_info": {
   "codemirror_mode": {
    "name": "ipython",
    "version": 3
   },
   "file_extension": ".py",
   "mimetype": "text/x-python",
   "name": "python",
   "nbconvert_exporter": "python",
   "pygments_lexer": "ipython3",
   "version": "3.9.12"
  }
 },
 "nbformat": 4,
 "nbformat_minor": 5
}

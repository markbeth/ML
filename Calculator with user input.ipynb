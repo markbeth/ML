{
 "cells": [
  {
   "cell_type": "code",
   "execution_count": 1,
   "id": "090a56be",
   "metadata": {},
   "outputs": [
    {
     "name": "stdout",
     "output_type": "stream",
     "text": [
      "What's x? 1.2\n",
      "What's y? 1.1\n"
     ]
    }
   ],
   "source": [
    "x = float(input(\"What's x? \"))\n",
    "y = float(input(\"What's y? \"))"
   ]
  },
  {
   "cell_type": "code",
   "execution_count": 2,
   "id": "b52a26ea",
   "metadata": {},
   "outputs": [],
   "source": [
    "z = round(x + y)"
   ]
  },
  {
   "cell_type": "code",
   "execution_count": 5,
   "id": "27563104",
   "metadata": {
    "scrolled": true
   },
   "outputs": [
    {
     "name": "stdout",
     "output_type": "stream",
     "text": [
      "2\n"
     ]
    }
   ],
   "source": [
    "print(f\"{z:,}\")"
   ]
  }
 ],
 "metadata": {
  "kernelspec": {
   "display_name": "Python 3 (ipykernel)",
   "language": "python",
   "name": "python3"
  },
  "language_info": {
   "codemirror_mode": {
    "name": "ipython",
    "version": 3
   },
   "file_extension": ".py",
   "mimetype": "text/x-python",
   "name": "python",
   "nbconvert_exporter": "python",
   "pygments_lexer": "ipython3",
   "version": "3.9.12"
  }
 },
 "nbformat": 4,
 "nbformat_minor": 5
}

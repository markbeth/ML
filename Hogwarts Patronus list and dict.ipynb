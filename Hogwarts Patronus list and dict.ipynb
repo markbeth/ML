{
 "cells": [
  {
   "cell_type": "code",
   "execution_count": 5,
   "id": "d6710a5a",
   "metadata": {},
   "outputs": [],
   "source": [
    "students = [\n",
    "    {\"name\": \"Hermione\", \"house\": \"Gryffindor\", \"patronus\": \"Otter\"},\n",
    "    {\"name\": \"Harry\", \"house\": \"Gryffindor\", \"patronus\": \"Stag\"},\n",
    "    {\"name\": \"Ron\", \"house\": \"Gryffindor\", \"patronus\": \"Jack Russell terrier\"},\n",
    "    {\"name\": \"Draco\", \"house\": \"Slytherin\", \"patronus\": None},\n",
    "]"
   ]
  },
  {
   "cell_type": "code",
   "execution_count": 6,
   "id": "e6d1d7a5",
   "metadata": {},
   "outputs": [
    {
     "name": "stdout",
     "output_type": "stream",
     "text": [
      "Hermione, Gryffindor, Otter\n",
      "Harry, Gryffindor, Stag\n",
      "Ron, Gryffindor, Jack Russell terrier\n",
      "Draco, Slytherin, None\n"
     ]
    }
   ],
   "source": [
    "for student in students:\n",
    "    print(student[\"name\"], student[\"house\"], student[\"patronus\"], sep=\", \")"
   ]
  }
 ],
 "metadata": {
  "kernelspec": {
   "display_name": "Python 3 (ipykernel)",
   "language": "python",
   "name": "python3"
  },
  "language_info": {
   "codemirror_mode": {
    "name": "ipython",
    "version": 3
   },
   "file_extension": ".py",
   "mimetype": "text/x-python",
   "name": "python",
   "nbconvert_exporter": "python",
   "pygments_lexer": "ipython3",
   "version": "3.9.12"
  }
 },
 "nbformat": 4,
 "nbformat_minor": 5
}

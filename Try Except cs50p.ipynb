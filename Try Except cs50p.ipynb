{
 "cells": [
  {
   "cell_type": "code",
   "execution_count": 1,
   "id": "090a56be",
   "metadata": {},
   "outputs": [
    {
     "name": "stdout",
     "output_type": "stream",
     "text": [
      "What's x? Cat\n",
      "x is not an integer\n"
     ]
    }
   ],
   "source": [
    "try:\n",
    "    x = int(input(\"What's x? \"))\n",
    "    print(f\"x is {x}\")\n",
    "except ValueError:\n",
    "    print(\"x is not an integer\")"
   ]
  },
  {
   "cell_type": "markdown",
   "id": "d3c8f399",
   "metadata": {},
   "source": [
    "выше мы сделали код, чтобы не было ошибок связанных с типом данных, но можно еще улучшить"
   ]
  },
  {
   "cell_type": "code",
   "execution_count": 2,
   "id": "c97c5b31-186b-4de1-a94c-ef9ad0b3cd7f",
   "metadata": {},
   "outputs": [
    {
     "name": "stdout",
     "output_type": "stream",
     "text": [
      "What's x? Cat\n",
      "x is not an integer\n"
     ]
    }
   ],
   "source": [
    "try:\n",
    "    x = int(input(\"What's x? \"))\n",
    "except ValueError:\n",
    "    print(\"x is not an integer\")\n",
    "else:\n",
    "     print(f\"x is {x}\")"
   ]
  },
  {
   "cell_type": "markdown",
   "id": "d6d2688e",
   "metadata": {},
   "source": [
    "**loop here, before you'll give integer**"
   ]
  },
  {
   "cell_type": "code",
   "execution_count": 3,
   "id": "ae75be3d-904c-466a-a3bb-4684cdebdfff",
   "metadata": {},
   "outputs": [
    {
     "name": "stdout",
     "output_type": "stream",
     "text": [
      "What's x? 50\n",
      "x is 50\n"
     ]
    }
   ],
   "source": [
    "while True:\n",
    "    try:\n",
    "        x = int(input(\"What's x? \"))\n",
    "    except ValueError:\n",
    "        print(\"x is not an integer\")\n",
    "    else:\n",
    "        break\n",
    "        \n",
    "print(f\"x is {x}\")"
   ]
  },
  {
   "cell_type": "markdown",
   "id": "0a715acf",
   "metadata": {},
   "source": [
    "**more beautiful cod wothout annoying smb using pass function**"
   ]
  },
  {
   "cell_type": "code",
   "execution_count": 4,
   "id": "4c69c00b-ea6c-46bc-904d-ecd1e3a9cfb7",
   "metadata": {},
   "outputs": [],
   "source": [
    "def main():\n",
    "    x = get_int()\n",
    "    print(f\"x is {x}\")"
   ]
  },
  {
   "cell_type": "code",
   "execution_count": 5,
   "id": "61aa9920-34cf-43eb-b8cf-8fe6db6ed480",
   "metadata": {},
   "outputs": [],
   "source": [
    "def get_int():\n",
    "    while True:\n",
    "        try:\n",
    "            return int(input(\"What's x? \"))\n",
    "        except ValueError:\n",
    "            pass"
   ]
  },
  {
   "cell_type": "code",
   "execution_count": 6,
   "id": "a04d7a71-4761-4edc-9a52-541c8d380019",
   "metadata": {},
   "outputs": [
    {
     "name": "stdout",
     "output_type": "stream",
     "text": [
      "What's x? 100\n",
      "x is 100\n"
     ]
    }
   ],
   "source": [
    "main()"
   ]
  }
 ],
 "metadata": {
  "kernelspec": {
   "display_name": "Python 3 (ipykernel)",
   "language": "python",
   "name": "python3"
  },
  "language_info": {
   "codemirror_mode": {
    "name": "ipython",
    "version": 3
   },
   "file_extension": ".py",
   "mimetype": "text/x-python",
   "name": "python",
   "nbconvert_exporter": "python",
   "pygments_lexer": "ipython3",
   "version": "3.9.12"
  }
 },
 "nbformat": 4,
 "nbformat_minor": 5
}
